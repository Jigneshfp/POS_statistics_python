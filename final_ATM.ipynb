{
 "cells": [
  {
   "cell_type": "code",
   "execution_count": 3,
   "metadata": {},
   "outputs": [],
   "source": [
    "import pandas as pd"
   ]
  },
  {
   "cell_type": "code",
   "execution_count": 4,
   "metadata": {},
   "outputs": [],
   "source": [
    "import glob\n",
    "pattern = 'ATM_*.XLSX'\n",
    "excel_files = glob.glob(pattern)\n",
    "POS_months = list(map(lambda x: x[4:10], excel_files))"
   ]
  },
  {
   "cell_type": "code",
   "execution_count": 5,
   "metadata": {},
   "outputs": [
    {
     "name": "stdout",
     "output_type": "stream",
     "text": [
      "['ATM_Apr_16.xlsx', 'ATM_Apr_17.XLSX', 'ATM_Aug_16.xlsx', 'ATM_Aug_17.XLSX', 'ATM_Dec_16.XLSX', 'ATM_Dec_17.XLSX', 'ATM_Feb_16.xlsx', 'ATM_Feb_17.XLSX', 'ATM_Jan_16.xlsx', 'ATM_Jan_17.xlsx', 'ATM_Jul_16.xlsx', 'ATM_Jul_17.XLSX', 'ATM_Jun_16.xlsx', 'ATM_Jun_17.XLSX', 'ATM_Mar_16.xlsx', 'ATM_Mar_17.XLSX', 'ATM_May_16.xlsx', 'ATM_May_17.XLSX', 'ATM_Nov_16.XLSX', 'ATM_Nov_17.XLSX', 'ATM_Oct_16.xlsx', 'ATM_Oct_17.XLSX', 'ATM_Sep_16.xlsx', 'ATM_Sep_17.XLSX']\n"
     ]
    }
   ],
   "source": [
    "print(excel_files)"
   ]
  },
  {
   "cell_type": "code",
   "execution_count": 7,
   "metadata": {},
   "outputs": [
    {
     "name": "stderr",
     "output_type": "stream",
     "text": [
      "C:\\Users\\Jignesh\\Anaconda3\\lib\\site-packages\\ipykernel_launcher.py:12: SettingWithCopyWarning: \n",
      "A value is trying to be set on a copy of a slice from a DataFrame.\n",
      "Try using .loc[row_indexer,col_indexer] = value instead\n",
      "\n",
      "See the caveats in the documentation: http://pandas.pydata.org/pandas-docs/stable/indexing.html#indexing-view-versus-copy\n",
      "  if sys.path[0] == '':\n"
     ]
    },
    {
     "data": {
      "text/plain": [
       "(1283, 8)"
      ]
     },
     "execution_count": 7,
     "metadata": {},
     "output_type": "execute_result"
    }
   ],
   "source": [
    "frame = []\n",
    "i = 0\n",
    "for excel in excel_files:\n",
    "     df= pd.read_excel(excel, skiprows = 5)\n",
    "     del df['Unnamed: 0']\n",
    "     df.dropna(inplace = True)\n",
    "        #creating a list of column names and index to subset.\n",
    "     index = ['Unnamed: 2', 3, 4, 7, 9, 12, 14]\n",
    "     index_colnames = [\"Bank_name\", \"POS_online\", \"POS_offline\", \"NO_of.transc.credit\",\\\n",
    "                  \"amount_transc.credit\", \"NO_of.transc.debit\", \"amount_transc.debit\"]\n",
    "     df_new= df[index]\n",
    "     df_new.columns = index_colnames\n",
    "     df_new['month_year'] = POS_months[i]\n",
    "     frame.append(df_new)\n",
    "     i = i + 1\n",
    "final_ATM = pd.concat(frame)\n",
    "final_ATM.shape"
   ]
  },
  {
   "cell_type": "code",
   "execution_count": 8,
   "metadata": {},
   "outputs": [],
   "source": [
    "import calendar\n",
    "months_16 = []\n",
    "months_17 = []\n",
    "\n",
    "for name in calendar.month_abbr:\n",
    "    months_16.append(name + \"_16\")\n",
    "    months_17.append(name + \"_17\")\n",
    "del months_16[0]\n",
    "del months_17[0]\n",
    "month_all = months_16 + months_17\n",
    "\n"
   ]
  },
  {
   "cell_type": "code",
   "execution_count": 9,
   "metadata": {},
   "outputs": [],
   "source": [
    "from pandas.api.types import CategoricalDtype\n",
    "month_order = CategoricalDtype(categories = month_all, ordered = True)\n",
    "final_ATM['month_year'] = final_ATM['month_year'].astype(month_order)"
   ]
  },
  {
   "cell_type": "code",
   "execution_count": 10,
   "metadata": {},
   "outputs": [],
   "source": [
    "final_ATM.sort_values(by = 'month_year', inplace = True)"
   ]
  },
  {
   "cell_type": "code",
   "execution_count": 11,
   "metadata": {},
   "outputs": [
    {
     "data": {
      "text/html": [
       "<div>\n",
       "<style scoped>\n",
       "    .dataframe tbody tr th:only-of-type {\n",
       "        vertical-align: middle;\n",
       "    }\n",
       "\n",
       "    .dataframe tbody tr th {\n",
       "        vertical-align: top;\n",
       "    }\n",
       "\n",
       "    .dataframe thead th {\n",
       "        text-align: right;\n",
       "    }\n",
       "</style>\n",
       "<table border=\"1\" class=\"dataframe\">\n",
       "  <thead>\n",
       "    <tr style=\"text-align: right;\">\n",
       "      <th></th>\n",
       "      <th>Bank_name</th>\n",
       "      <th>POS_online</th>\n",
       "      <th>POS_offline</th>\n",
       "      <th>NO_of.transc.credit</th>\n",
       "      <th>amount_transc.credit</th>\n",
       "      <th>NO_of.transc.debit</th>\n",
       "      <th>amount_transc.debit</th>\n",
       "      <th>month_year</th>\n",
       "    </tr>\n",
       "  </thead>\n",
       "  <tbody>\n",
       "    <tr>\n",
       "      <th>1</th>\n",
       "      <td>ANDHRA BANK</td>\n",
       "      <td>2710.0</td>\n",
       "      <td>0.0</td>\n",
       "      <td>214159.0</td>\n",
       "      <td>511.100000</td>\n",
       "      <td>1338812.0</td>\n",
       "      <td>1340.800000</td>\n",
       "      <td>Jan_16</td>\n",
       "    </tr>\n",
       "    <tr>\n",
       "      <th>26</th>\n",
       "      <td>AXIS BANK LTD</td>\n",
       "      <td>258030.0</td>\n",
       "      <td>0.0</td>\n",
       "      <td>5382668.0</td>\n",
       "      <td>18755.763393</td>\n",
       "      <td>8274094.0</td>\n",
       "      <td>12454.177807</td>\n",
       "      <td>Jan_16</td>\n",
       "    </tr>\n",
       "    <tr>\n",
       "      <th>25</th>\n",
       "      <td>STATE BANK OF TRAVANCORE</td>\n",
       "      <td>3451.0</td>\n",
       "      <td>0.0</td>\n",
       "      <td>0.0</td>\n",
       "      <td>0.000000</td>\n",
       "      <td>975907.0</td>\n",
       "      <td>1381.324567</td>\n",
       "      <td>Jan_16</td>\n",
       "    </tr>\n",
       "    <tr>\n",
       "      <th>24</th>\n",
       "      <td>STATE BANK OF PATIALA</td>\n",
       "      <td>4797.0</td>\n",
       "      <td>0.0</td>\n",
       "      <td>0.0</td>\n",
       "      <td>0.000000</td>\n",
       "      <td>508587.0</td>\n",
       "      <td>641.590989</td>\n",
       "      <td>Jan_16</td>\n",
       "    </tr>\n",
       "    <tr>\n",
       "      <th>23</th>\n",
       "      <td>STATE BANK OF MYSORE</td>\n",
       "      <td>5226.0</td>\n",
       "      <td>0.0</td>\n",
       "      <td>0.0</td>\n",
       "      <td>0.000000</td>\n",
       "      <td>524643.0</td>\n",
       "      <td>866.253733</td>\n",
       "      <td>Jan_16</td>\n",
       "    </tr>\n",
       "  </tbody>\n",
       "</table>\n",
       "</div>"
      ],
      "text/plain": [
       "                   Bank_name  POS_online  POS_offline  NO_of.transc.credit  \\\n",
       "1                ANDHRA BANK      2710.0          0.0             214159.0   \n",
       "26             AXIS BANK LTD    258030.0          0.0            5382668.0   \n",
       "25  STATE BANK OF TRAVANCORE      3451.0          0.0                  0.0   \n",
       "24     STATE BANK OF PATIALA      4797.0          0.0                  0.0   \n",
       "23      STATE BANK OF MYSORE      5226.0          0.0                  0.0   \n",
       "\n",
       "    amount_transc.credit  NO_of.transc.debit  amount_transc.debit month_year  \n",
       "1             511.100000           1338812.0          1340.800000     Jan_16  \n",
       "26          18755.763393           8274094.0         12454.177807     Jan_16  \n",
       "25              0.000000            975907.0          1381.324567     Jan_16  \n",
       "24              0.000000            508587.0           641.590989     Jan_16  \n",
       "23              0.000000            524643.0           866.253733     Jan_16  "
      ]
     },
     "execution_count": 11,
     "metadata": {},
     "output_type": "execute_result"
    }
   ],
   "source": [
    "final_ATM.head()"
   ]
  },
  {
   "cell_type": "code",
   "execution_count": 12,
   "metadata": {},
   "outputs": [],
   "source": [
    "online_POS = final_ATM.groupby('month_year')[['amount_transc.debit']].mean()"
   ]
  },
  {
   "cell_type": "code",
   "execution_count": 15,
   "metadata": {},
   "outputs": [
    {
     "data": {
      "text/plain": [
       "<matplotlib.axes._subplots.AxesSubplot at 0x2669bc36e48>"
      ]
     },
     "execution_count": 15,
     "metadata": {},
     "output_type": "execute_result"
    },
    {
     "data": {
      "image/png": "[encoded data removed]",
      "text/plain": [
       "<matplotlib.figure.Figure at 0x2669bc27898>"
      ]
     },
     "metadata": {},
     "output_type": "display_data"
    }
   ],
   "source": [
    "online_POS.plot.line()"
   ]
  },
  {
   "cell_type": "code",
   "execution_count": null,
   "metadata": {},
   "outputs": [],
   "source": [
    "# As we can see here how the amount of transaction using debit card has increased abrutly which is after demonetization. "
   ]
  }
 ],
 "metadata": {
  "kernelspec": {
   "display_name": "Python 3",
   "language": "python",
   "name": "python3"
  },
  "language_info": {
   "codemirror_mode": {
    "name": "ipython",
    "version": 3
   },
   "file_extension": ".py",
   "mimetype": "text/x-python",
   "name": "python",
   "nbconvert_exporter": "python",
   "pygments_lexer": "ipython3",
   "version": "3.6.4"
  }
 },
 "nbformat": 4,
 "nbformat_minor": 2
}
